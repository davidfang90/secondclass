{
 "cells": [
  {
   "cell_type": "code",
   "execution_count": 9,
   "metadata": {
    "collapsed": false
   },
   "outputs": [
    {
     "data": {
      "text/plain": [
       "array([ -3.33333333e-01,   3.33333333e-01,  -3.33333333e-01,\n",
       "         9.99200722e-16,   2.00000000e+00,   0.00000000e+00])"
      ]
     },
     "execution_count": 9,
     "metadata": {},
     "output_type": "execute_result"
    }
   ],
   "source": [
    "#%%time\n",
    "from sklearn import linear_model\n",
    "model = linear_model.LinearRegression()\n",
    "\n",
    "#train model\n",
    "model.fit([[1,2,1,2,1,2],[2,1,2,1,2,2],[1,2,1,3,2,2],[2,1,2,2,2,2]], [1,2,3,2])\n",
    "\n",
    "#W1--W6\n",
    "model.coef_\n"
   ]
  },
  {
   "cell_type": "code",
   "execution_count": 8,
   "metadata": {
    "collapsed": false
   },
   "outputs": [
    {
     "data": {
      "text/plain": [
       "-1.0000000000000036"
      ]
     },
     "execution_count": 8,
     "metadata": {},
     "output_type": "execute_result"
    }
   ],
   "source": [
    "model.intercept_"
   ]
  },
  {
   "cell_type": "code",
   "execution_count": 10,
   "metadata": {
    "collapsed": false
   },
   "outputs": [
    {
     "name": "stderr",
     "output_type": "stream",
     "text": [
      "C:\\anaconda 3\\lib\\site-packages\\sklearn\\utils\\validation.py:386: DeprecationWarning: Passing 1d arrays as data is deprecated in 0.17 and willraise ValueError in 0.19. Reshape your data either using X.reshape(-1, 1) if your data has a single feature or X.reshape(1, -1) if it contains a single sample.\n",
      "  DeprecationWarning)\n"
     ]
    },
    {
     "data": {
      "text/plain": [
       "array([ 3.33333333])"
      ]
     },
     "execution_count": 10,
     "metadata": {},
     "output_type": "execute_result"
    }
   ],
   "source": [
    "model.predict([4,3,4,3,3,2])"
   ]
  },
  {
   "cell_type": "code",
   "execution_count": 11,
   "metadata": {
    "collapsed": false
   },
   "outputs": [
    {
     "name": "stderr",
     "output_type": "stream",
     "text": [
      "C:\\anaconda 3\\lib\\site-packages\\sklearn\\utils\\validation.py:386: DeprecationWarning: Passing 1d arrays as data is deprecated in 0.17 and willraise ValueError in 0.19. Reshape your data either using X.reshape(-1, 1) if your data has a single feature or X.reshape(1, -1) if it contains a single sample.\n",
      "  DeprecationWarning)\n"
     ]
    },
    {
     "data": {
      "text/plain": [
       "array([  4.44089210e-16])"
      ]
     },
     "execution_count": 11,
     "metadata": {},
     "output_type": "execute_result"
    }
   ],
   "source": [
    "model.predict([2,1,2,1,1,2])"
   ]
  },
  {
   "cell_type": "markdown",
   "metadata": {},
   "source": [
    "####This example uses the only the first feature of the diabetes dataset, in order to illustrate a two-dimensional plot of this regression technique. The straight line can be seen in the plot, showing how linear regression attempts to draw a straight line that will best minimize the residual sum of squares between the observed responses in the dataset, and the responses predicted by the linear approximation.\n",
    "The coefficients, the residual sum of squares and the variance score are also calculated.\n",
    "\n",
    "我自己把这个模型重新写一遍。"
   ]
  },
  {
   "cell_type": "code",
   "execution_count": 31,
   "metadata": {
    "collapsed": false
   },
   "outputs": [
    {
     "name": "stdout",
     "output_type": "stream",
     "text": [
      "Coefficients:\n",
      " [ 938.23786125]\n",
      "Intercepts:\n",
      " 152.918861826\n",
      "Mean squared error: \n",
      " 2548.07239873\n",
      "Variance_score: \n",
      " 0.472575447982\n"
     ]
    },
    {
     "data": {
      "image/png": "[encoded data removed]",
      "text/plain": [
       "<matplotlib.figure.Figure at 0x8a76780>"
      ]
     },
     "metadata": {},
     "output_type": "display_data"
    }
   ],
   "source": [
    "import numpy as np\n",
    "from sklearn import datasets, linear_model\n",
    "import matplotlib.pyplot as plt\n",
    "\n",
    "#加载数据\n",
    "data = datasets.load_diabetes()\n",
    "#print(data)\n",
    "#使用数据中的一个特征\n",
    "data_x = data.data[:, np.newaxis,2]\n",
    "#print(data_x)\n",
    "#将数据x划分为训练数据和测试数据\n",
    "data_x_train = data_x[:-20]\n",
    "data_x_test = data_x[-20:]\n",
    "#将数据y划分为训练数据和测试数据\n",
    "data_y_train = data.target[:-20]\n",
    "data_y_test = data.target[-20:]\n",
    "#创建一个线性回归模型\n",
    "model = linear_model.LinearRegression()\n",
    "#喂训练数据给模型\n",
    "model.fit(data_x_train,data_y_train)\n",
    "\n",
    "#计算模型中的系数\n",
    "coefficients = model.coef_\n",
    "print(\"Coefficients:\\n\",coefficients)\n",
    "intercept = model.intercept_\n",
    "print(\"Intercepts:\\n\",intercept)\n",
    "#计算均方误差\n",
    "mean_squared_error = np.mean((model.predict(data_x_test)-data_y_test)**2)\n",
    "print(\"Mean squared error: \\n\",mean_squared_error)\n",
    "variance_score = model.score(data_x_test,data_y_test)\n",
    "print(\"Variance_score: \\n\", variance_score)\n",
    "#画图\n",
    "plt.scatter(data_x_test,data_y_test, color = 'black')\n",
    "plt.plot(data_x_test,model.predict(data_x_test),color = 'blue',linewidth=3)\n",
    "\n",
    "plt.xticks(())\n",
    "plt.yticks(())\n",
    "plt.show()"
   ]
  },
  {
   "cell_type": "code",
   "execution_count": null,
   "metadata": {
    "collapsed": true
   },
   "outputs": [],
   "source": []
  }
 ],
 "metadata": {
  "anaconda-cloud": {},
  "kernelspec": {
   "display_name": "Python [default]",
   "language": "python",
   "name": "python3"
  },
  "language_info": {
   "codemirror_mode": {
    "name": "ipython",
    "version": 3
   },
   "file_extension": ".py",
   "mimetype": "text/x-python",
   "name": "python",
   "nbconvert_exporter": "python",
   "pygments_lexer": "ipython3",
   "version": "3.5.2"
  }
 },
 "nbformat": 4,
 "nbformat_minor": 1
}
